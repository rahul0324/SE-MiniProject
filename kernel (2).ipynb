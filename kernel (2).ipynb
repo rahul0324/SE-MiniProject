{
  "cells": [
    {
      "metadata": {
        "trusted": true,
        "_uuid": "08c9c53941b7c06e50a21bb9c29054b16a5efff8"
      },
      "cell_type": "code",
      "source": "import pandas as pd",
      "execution_count": null,
      "outputs": []
    },
    {
      "metadata": {
        "trusted": true,
        "_uuid": "469cc894cdb737b352afe62466b39c53b8ddb4f8"
      },
      "cell_type": "code",
      "source": "y_test1 = pd.read_csv(\"../input/numberplate/trainVal.csv\")",
      "execution_count": null,
      "outputs": []
    },
    {
      "metadata": {
        "trusted": true,
        "_uuid": "cbbe740d322b8d0e0c694d963ac861b4a09b6955"
      },
      "cell_type": "code",
      "source": "y_test2 = y_test1\ny_test2.head()",
      "execution_count": null,
      "outputs": []
    },
    {
      "metadata": {
        "trusted": true,
        "_uuid": "dfc4b38fb86f3328b6fb2429a27e960ed23fee0d"
      },
      "cell_type": "code",
      "source": "y_test2 = y_test2.drop('image_path',axis = 1)",
      "execution_count": null,
      "outputs": []
    },
    {
      "metadata": {
        "trusted": true,
        "_uuid": "7d3c5a9509de893ecc9c63055ea42934e8300350"
      },
      "cell_type": "code",
      "source": "y_test2.head()",
      "execution_count": 85,
      "outputs": [
        {
          "output_type": "execute_result",
          "execution_count": 85,
          "data": {
            "text/plain": "               track_id       lp\n0  ./crop_m3/I00000.png  4E02304\n1  ./crop_m3/I00000.png  4E02304\n2  ./crop_m3/I00001.png  9B43104\n3  ./crop_m3/I00001.png  9B43104\n4  ./crop_m3/I00002.png  BZL4085",
            "text/html": "<div>\n<style scoped>\n    .dataframe tbody tr th:only-of-type {\n        vertical-align: middle;\n    }\n\n    .dataframe tbody tr th {\n        vertical-align: top;\n    }\n\n    .dataframe thead th {\n        text-align: right;\n    }\n</style>\n<table border=\"1\" class=\"dataframe\">\n  <thead>\n    <tr style=\"text-align: right;\">\n      <th></th>\n      <th>track_id</th>\n      <th>lp</th>\n    </tr>\n  </thead>\n  <tbody>\n    <tr>\n      <th>0</th>\n      <td>./crop_m3/I00000.png</td>\n      <td>4E02304</td>\n    </tr>\n    <tr>\n      <th>1</th>\n      <td>./crop_m3/I00000.png</td>\n      <td>4E02304</td>\n    </tr>\n    <tr>\n      <th>2</th>\n      <td>./crop_m3/I00001.png</td>\n      <td>9B43104</td>\n    </tr>\n    <tr>\n      <th>3</th>\n      <td>./crop_m3/I00001.png</td>\n      <td>9B43104</td>\n    </tr>\n    <tr>\n      <th>4</th>\n      <td>./crop_m3/I00002.png</td>\n      <td>BZL4085</td>\n    </tr>\n  </tbody>\n</table>\n</div>"
          },
          "metadata": {}
        }
      ]
    },
    {
      "metadata": {
        "trusted": true,
        "_uuid": "90778d59a019ed29729cc5476cd82712f03030f8"
      },
      "cell_type": "code",
      "source": "y_test2.shape",
      "execution_count": null,
      "outputs": []
    },
    {
      "metadata": {
        "trusted": true,
        "_uuid": "ad96a6f8dd6f826fe70fe1ef9ae5eeb421c7c88c"
      },
      "cell_type": "code",
      "source": "y_test2 = y_test2.drop('train',axis = 1)",
      "execution_count": null,
      "outputs": []
    },
    {
      "metadata": {
        "trusted": true,
        "_uuid": "c559bf4ebbee7175c3afa2bf50e13e87892a70b0"
      },
      "cell_type": "code",
      "source": "y_test2.head()",
      "execution_count": null,
      "outputs": []
    },
    {
      "metadata": {
        "trusted": true,
        "_uuid": "a9123d61712cc7c891c8dfedc172efe2217ee54f"
      },
      "cell_type": "code",
      "source": "index=range(0,140)\n# indexy_test2 = y_test2\n\ncolumns=['track_id','lp']\ntest = pd.DataFrame(index=index, columns=columns)",
      "execution_count": null,
      "outputs": []
    },
    {
      "metadata": {
        "trusted": true,
        "_uuid": "d56f5b0150300c52c4504c0f7a8ddd4cc7355a22"
      },
      "cell_type": "code",
      "source": "test.head()",
      "execution_count": null,
      "outputs": []
    },
    {
      "metadata": {
        "trusted": true,
        "_uuid": "b43ef35b420e99ae5a0fc1a87fb7a79e658c7252"
      },
      "cell_type": "code",
      "source": "j=0\nfor i in range(len(y_test2)):\n    if i%2 != 0:\n        test['track_id'][j] = y_test2['track_id'][i]\n        test['lp'][j] = y_test2['lp'][i]\n        j  += 1",
      "execution_count": null,
      "outputs": []
    },
    {
      "metadata": {
        "trusted": true,
        "_uuid": "b36913ac011398a7fbaaf2153e15e41a5779639c"
      },
      "cell_type": "code",
      "source": "test['lp'][140] = y_test2['lp'][280]\ntest['lp'][141] = y_test2['lp'][281]",
      "execution_count": null,
      "outputs": []
    },
    {
      "metadata": {
        "trusted": true,
        "_uuid": "21b099315f79f8c228d13ab4e337966d1c47e7f3"
      },
      "cell_type": "code",
      "source": "len(test['lp']) == (len(y_test2['lp'])/2+1)",
      "execution_count": null,
      "outputs": []
    },
    {
      "metadata": {
        "trusted": true,
        "_uuid": "ec99e70e9acd3c60e4145235947b447226e5fdb0"
      },
      "cell_type": "code",
      "source": "test.to_csv('trainValidation.csv')",
      "execution_count": null,
      "outputs": []
    },
    {
      "metadata": {
        "trusted": true,
        "_uuid": "98d126c6b307ef53ca408e27ca05f20a879c4b95"
      },
      "cell_type": "code",
      "source": "test['lp'][140]",
      "execution_count": null,
      "outputs": []
    },
    {
      "metadata": {
        "_uuid": "8f2839f25d086af736a60e9eeb907d3b93b6e0e5",
        "_cell_guid": "b1076dfc-b9ad-4769-8c92-a6c4dae69d19",
        "trusted": true,
        "scrolled": true
      },
      "cell_type": "code",
      "source": "# This Python 3 environment comes with many helpful analytics libraries installed\n# It is defined by the kaggle/python docker image: https://github.com/kaggle/docker-python\n# For example, here's several helpful packages to load in \n\nimport numpy as np # linear algebraX_train[0]\nimport pandas as pd # data processing, CSV file I/O (e.g. pd.read_csv)\n# Input data files are available in the \"../input/\" directory.y_test1 = pd.read_csv(\"../input/numberplate/trainVal.csv\")\n# For example, running this (by clicking run or pressing Shift+Enter) will list the files in the input directory\n\nimport os\nprint(os.listdir(\"../input/vehicle-number-plate/h3m3/h3m3/crop_h3\"))\n\n# Any results you write to the current directory are saved as output.",
      "execution_count": null,
      "outputs": []
    },
    {
      "metadata": {
        "trusted": true,
        "_uuid": "878305407a1bdf1e0cbcd22dc7524b662ddf130d"
      },
      "cell_type": "code",
      "source": "# y_test = os.listdir(\"../input/vehicle-number-plate/h3m3/h3m3/crop_h3\"))\ny_test = pd.read_csv(\"../input/number-plate-dataset/trainValidation (1).csv\")\ny_test.head(10)",
      "execution_count": null,
      "outputs": []
    },
    {
      "metadata": {
        "trusted": true,
        "_uuid": "f6c636c78162dc3ba0cea4aa3cf0eaaad014da24"
      },
      "cell_type": "code",
      "source": "y_test.tail(10)",
      "execution_count": null,
      "outputs": []
    },
    {
      "metadata": {
        "trusted": true,
        "_uuid": "7b80d998dbdea9c51067ac4fa2849d88e507f1fe"
      },
      "cell_type": "code",
      "source": "import os, cv2, re, random\nimport numpy as np\nimport pandas as pd\n\nTRAIN_DIR = '../input/vehicle-number-plate/h3m3/h3m3/crop_h3/'\ntrain_images = [TRAIN_DIR+i for i in os.listdir(TRAIN_DIR)]",
      "execution_count": null,
      "outputs": []
    },
    {
      "metadata": {
        "trusted": true,
        "_uuid": "fc06e35c78f02ddaa84c2d35b7b032bff870156e"
      },
      "cell_type": "code",
      "source": "train_images_list = []\nfor i in train_images:\n    train_images_list.append(i)",
      "execution_count": null,
      "outputs": []
    },
    {
      "metadata": {
        "trusted": true,
        "_uuid": "e2590544a32a6e8087b16b15698291fc6f3b8329"
      },
      "cell_type": "code",
      "source": "def atoi(text):\n    return int(text) if text.isdigit() else text\n\ndef natural_keys(text):\n    return [ atoi(c) for c in re.split('(\\d+)', text) ]\n",
      "execution_count": null,
      "outputs": []
    },
    {
      "metadata": {
        "trusted": true,
        "_uuid": "b8b009484ea2452baed4bcb2a8162fde700c974d"
      },
      "cell_type": "code",
      "source": "train_images_list.sort(key=natural_keys)",
      "execution_count": null,
      "outputs": []
    },
    {
      "metadata": {
        "trusted": true,
        "_uuid": "b7cfd5108b285fe4aa71a24bfa3e07a76107bb69"
      },
      "cell_type": "code",
      "source": "def prepare_data(list_of_images):\n    x = [] \n    for image in list_of_images:\n        '''Reshaping the images of number plates in 100x100x3 in order to reduce calculation done by neural network'''\n        x.append(cv2.resize(cv2.imread(image), (100,100), interpolation=cv2.INTER_CUBIC))     \n    return x",
      "execution_count": null,
      "outputs": []
    },
    {
      "metadata": {
        "trusted": true,
        "_uuid": "7e64913a782fa45e9149c96ce5449ce3a3eea793"
      },
      "cell_type": "code",
      "source": "X_train = prepare_data(train_images_list)",
      "execution_count": null,
      "outputs": []
    },
    {
      "metadata": {
        "trusted": true,
        "_uuid": "19b01bc23071e552fcbee1ccacecbdf3abdddb39"
      },
      "cell_type": "code",
      "source": "X_train[0].shape",
      "execution_count": null,
      "outputs": []
    },
    {
      "metadata": {
        "trusted": true,
        "scrolled": true,
        "_uuid": "4dfb93ef906566e09f097b32e66c6fde95d7bb75"
      },
      "cell_type": "code",
      "source": "X_train[0]",
      "execution_count": null,
      "outputs": []
    },
    {
      "metadata": {
        "trusted": true,
        "_uuid": "58b98e017f88a8a9bf52d94103fee36d392290ee"
      },
      "cell_type": "code",
      "source": "train_images[0], train_images[0][40:]",
      "execution_count": null,
      "outputs": []
    },
    {
      "metadata": {
        "trusted": true,
        "_uuid": "e6cd00be69e5841bc07c32f30b9badc4c7b0c993"
      },
      "cell_type": "code",
      "source": "import matplotlib.pyplot as plt \nplt.imshow(X_train[131])",
      "execution_count": null,
      "outputs": []
    },
    {
      "metadata": {
        "trusted": true,
        "_uuid": "0cc003306376cf81ed42e1f116ece7354f61a634"
      },
      "cell_type": "code",
      "source": "from PIL import Image\nImage.open(train_images[51])",
      "execution_count": null,
      "outputs": []
    }
  ],
  "metadata": {
    "kernelspec": {
      "display_name": "Python 3",
      "language": "python",
      "name": "python3"
    },
    "language_info": {
      "name": "python",
      "version": "3.6.6",
      "mimetype": "text/x-python",
      "codemirror_mode": {
        "name": "ipython",
        "version": 3
      },
      "pygments_lexer": "ipython3",
      "nbconvert_exporter": "python",
      "file_extension": ".py"
    }
  },
  "nbformat": 4,
  "nbformat_minor": 1
}